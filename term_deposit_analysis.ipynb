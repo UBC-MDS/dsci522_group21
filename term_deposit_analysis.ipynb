{
 "cells": [
  {
   "cell_type": "code",
   "execution_count": null,
   "id": "30ac7adc-1eb1-442a-9d3e-baae198ab6e9",
   "metadata": {},
   "outputs": [],
   "source": [
    "import pandas as pd"
   ]
  },
  {
   "cell_type": "code",
   "execution_count": null,
   "id": "29cfeeea-eeb7-46b4-bc62-6d50d3aaf8ee",
   "metadata": {},
   "outputs": [],
   "source": [
    "df_bank = pd.read_csv(\"data/bank-full.csv\", delimiter=\";\")"
   ]
  },
  {
   "cell_type": "code",
   "execution_count": null,
   "id": "087b016c-4a35-4eae-b9b5-b9b0cc3fb143",
   "metadata": {},
   "outputs": [],
   "source": [
    "from sklearn.model_selection import train_test_split\n",
    "train_df, test_df = train_test_split(df_bank, test_size=0.25, random_state=123)"
   ]
  },
  {
   "cell_type": "code",
   "execution_count": null,
   "id": "4b57a2c7-f142-4ecd-a5dc-4618c0f45cc0",
   "metadata": {},
   "outputs": [],
   "source": [
    "train_df.info()"
   ]
  },
  {
   "cell_type": "code",
   "execution_count": null,
   "id": "ab0c4057-77cd-4980-ab8a-44661213a47b",
   "metadata": {},
   "outputs": [],
   "source": [
    "train_df.head()"
   ]
  },
  {
   "cell_type": "code",
   "execution_count": null,
   "id": "29405d93-4274-4173-84cb-c7cf47d8478d",
   "metadata": {},
   "outputs": [],
   "source": [
    "train_df[\"y\"].value_counts(normalize=True)"
   ]
  },
  {
   "cell_type": "code",
   "execution_count": null,
   "id": "ada49f7c-58dd-456a-b86a-bdd25c6c08e6",
   "metadata": {},
   "outputs": [],
   "source": [
    "categorical_cols = list(train_df.drop(columns=[\"y\"]).select_dtypes(include=[\"object\"]).columns)\n",
    "numerical_cols = list(train_df.select_dtypes(include=[\"int64\"]).columns)"
   ]
  },
  {
   "cell_type": "code",
   "execution_count": null,
   "id": "d0421d0a-db05-4ab9-b24f-05cff7d333ae",
   "metadata": {},
   "outputs": [],
   "source": [
    "import altair as alt\n",
    "\n",
    "alt.data_transformers.enable(\"vegafusion\")\n",
    "\n",
    "alt.Chart(train_df).mark_bar().encode(\n",
    "    x=alt.X(alt.repeat(\"row\")).type(\"nominal\"),\n",
    "    y=\"count()\"\n",
    ").repeat(\n",
    "    row=categorical_cols\n",
    ")"
   ]
  },
  {
   "cell_type": "code",
   "execution_count": null,
   "id": "96ae9e24-387a-445f-aa43-475fa1c485af",
   "metadata": {},
   "outputs": [],
   "source": [
    "alt.Chart(train_df).mark_bar().encode(\n",
    "    x=alt.X(alt.repeat(\"row\")).type(\"quantitative\").bin(maxbins=40),\n",
    "    y=\"count()\"\n",
    ").repeat(\n",
    "    row=numerical_cols\n",
    ")"
   ]
  },
  {
   "cell_type": "code",
   "execution_count": null,
   "id": "d47b952e-e67f-4481-9234-82f2b9cd0b7d",
   "metadata": {},
   "outputs": [],
   "source": [
    "spearman_corr_df = train_df[numerical_cols].corr(\"spearman\").unstack().reset_index()\n",
    "spearman_corr_df.columns = [\"num_variable_0\", \"num_variable_1\", \"correlation\"]\n",
    "\n",
    "corr_heatmap = alt.Chart(spearman_corr_df, title=\"Spearman Correlation\").mark_rect().encode(\n",
    "    x=alt.X(\"num_variable_0\").title(\"Numerical Variable\"),\n",
    "    y=alt.Y(\"num_variable_1\").title(\"Numerical Variable\"),\n",
    "    color=\"correlation:Q\"\n",
    ").properties(\n",
    "    width=250,\n",
    "    height=250\n",
    ")\n",
    "\n",
    "text = alt.Chart(spearman_corr_df).mark_text().encode(\n",
    "    x=alt.X(\"num_variable_0\").title(\"Numerical Variable\"),\n",
    "    y=alt.Y(\"num_variable_1\").title(\"Numerical Variable\"),\n",
    "    text=alt.Text(\"correlation:Q\", format=\".2f\")\n",
    ")\n",
    "\n",
    "corr_heatmap + text"
   ]
  },
  {
   "cell_type": "code",
   "execution_count": null,
   "id": "336175e8-115e-4a20-90cf-f63d71d4084e",
   "metadata": {},
   "outputs": [],
   "source": [
    "person_corr_df = train_df[numerical_cols].corr(\"pearson\").unstack().reset_index()\n",
    "person_corr_df.columns = [\"num_variable_0\", \"num_variable_1\", \"correlation\"]\n",
    "\n",
    "corr_heatmap = alt.Chart(person_corr_df).mark_rect().encode(\n",
    "    x=alt.X(\"num_variable_0\").title(\"Numerical Variable\"),\n",
    "    y=alt.Y(\"num_variable_1\").title(\"Numerical Variable\"),\n",
    "    color=\"correlation:Q\"\n",
    ").properties(\n",
    "    width=250,\n",
    "    height=250\n",
    ")\n",
    "\n",
    "text = alt.Chart(person_corr_df, title=\"Pearson Correlation\").mark_text().encode(\n",
    "    x=alt.X(\"num_variable_0\").title(\"Numerical Variable\"),\n",
    "    y=alt.Y(\"num_variable_1\").title(\"Numerical Variable\"),\n",
    "    text=alt.Text(\"correlation:Q\", format=\".2f\")\n",
    ")\n",
    "\n",
    "corr_heatmap + text"
   ]
  },
  {
   "cell_type": "code",
   "execution_count": null,
   "id": "e078ec77-0a66-47cd-9bfd-5c514ee74d10",
   "metadata": {},
   "outputs": [],
   "source": [
    "# checking for correlation between pdays and previous\n",
    "pdays_prev = alt.Chart(train_df, title=\"pdays vs previous\").mark_point().encode(\n",
    "    x=\"pdays\",\n",
    "    y=\"previous\"\n",
    ")\n",
    "\n",
    "pdays_prev_clamped = alt.Chart(train_df, title=\"pdays vs previous (previous <= 50)\").mark_point().encode(\n",
    "    x=\"pdays\",\n",
    "    y=alt.Y(\"previous\").scale(domain=(0, 50), clamp=True)\n",
    ")\n",
    "\n",
    "pdays_prev | pdays_prev_clamped"
   ]
  },
  {
   "cell_type": "markdown",
   "id": "4f8e0439-b7ac-438d-b922-9af48386a661",
   "metadata": {},
   "source": [
    "### Summary and Recommendations from EDA\n",
    "- Generally, bar charts were created for categorical variables, and histograms for numerical variables to show illustration. Correlation heatmaps based on two different metrics were generated to investigate the relationships between numerical variables. A scatter plot specifically for `pdays` vs `previous` was created.\n",
    "- Judging from the proportion of each class in the target, the dataset is unbalanced\n",
    "- `job`, `education`, `contact` and `poutcome` contain unknown values. We do not have enough information on the dataset to impute these values properly. Note that these values are not null values, but strings called \"unknown\".\n",
    "- Out of the columns mentioned that contain unknown values, `contact` and `poutcome` need to be dropped since they contain too many unknown examples. We cannot just drop the unknowns from these columns since we would be dropping too many examples, especially considering the size of the data.\n",
    "- `job` and `education` can be kept. We can just drop the unknowns from these features.\n",
    "- The distributions of `pdays` and `previous` are heavily skewed. These variables are also correlated with 0.99 Spearman correlation score and 0.44 Pearson correlation score.\n",
    "- However, upon visual inspection with a scatter plot, `pdays` and `previous` do not seem to be too correlated to be an issue. We can keep them both as features.\n",
    "- Overall recommendations:\n",
    "   - Drop `contact` and `poutcome`\n",
    "   - Drop unknown values from `job` and `education`\n",
    "   - Ordinal encode `education`\n",
    "   - One-hot encode other categorical variables\n",
    "   - Standardize numerical columns"
   ]
  },
  {
   "cell_type": "code",
   "execution_count": null,
   "id": "862830a9-7577-4f1c-b572-e0b27609a9a9",
   "metadata": {},
   "outputs": [],
   "source": [
    "train_df = train_df.loc[(train_df[\"job\"] != \"unknown\") & (train_df[\"education\"] != \"unknown\")]\n",
    "test_df = test_df.loc[(test_df[\"job\"] != \"unknown\") & (test_df[\"education\"] != \"unknown\")]\n",
    "\n",
    "X_train = train_df.drop(columns=[\"y\"])\n",
    "y_train = train_df[\"y\"]\n",
    "X_test = test_df.drop(columns=[\"y\"])\n",
    "y_test = test_df[\"y\"]"
   ]
  },
  {
   "cell_type": "code",
   "execution_count": null,
   "id": "891d8961-a406-43f7-a1b4-84300f9cb0ea",
   "metadata": {},
   "outputs": [],
   "source": [
    "from sklearn.compose import make_column_transformer\n",
    "from sklearn.preprocessing import OneHotEncoder, OrdinalEncoder, StandardScaler\n",
    "\n",
    "# recommended transformations\n",
    "categorical_feats = [\"job\", \"marital\", \"default\", \"housing\", \"loan\", \"month\"]\n",
    "ordinal_feats = [\"education\"]\n",
    "drop_feats = [\"contact\", \"poutcome\"]\n",
    "numerical_feats = numerical_cols\n",
    "\n",
    "education_levels = [\"primary\", \"secondary\", \"tertiary\"]\n",
    "\n",
    "col_transformer = make_column_transformer((OneHotEncoder(sparse_output=False, drop=\"if_binary\"), categorical_feats),\n",
    "                                          (OrdinalEncoder(categories=[education_levels], dtype=int), ordinal_feats),\n",
    "                                          (\"drop\", drop_feats),\n",
    "                                          (StandardScaler(), numerical_feats))"
   ]
  },
  {
   "cell_type": "code",
   "execution_count": null,
   "id": "d61cb62e-9de9-4fe8-8cd0-e7298eaf6dec",
   "metadata": {},
   "outputs": [],
   "source": []
  }
 ],
 "metadata": {
  "kernelspec": {
   "display_name": "Python [conda env:522]",
   "language": "python",
   "name": "conda-env-522-py"
  },
  "language_info": {
   "codemirror_mode": {
    "name": "ipython",
    "version": 3
   },
   "file_extension": ".py",
   "mimetype": "text/x-python",
   "name": "python",
   "nbconvert_exporter": "python",
   "pygments_lexer": "ipython3",
   "version": "3.12.0"
  }
 },
 "nbformat": 4,
 "nbformat_minor": 5
}
