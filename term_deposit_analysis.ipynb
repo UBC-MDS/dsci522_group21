{
 "cells": [
  {
   "cell_type": "code",
   "execution_count": null,
   "id": "30ac7adc-1eb1-442a-9d3e-baae198ab6e9",
   "metadata": {},
   "outputs": [],
   "source": [
    "import pandas as pd"
   ]
  },
  {
   "cell_type": "code",
   "execution_count": null,
   "id": "29cfeeea-eeb7-46b4-bc62-6d50d3aaf8ee",
   "metadata": {},
   "outputs": [],
   "source": [
    "df_bank = pd.read_csv(\"data/bank-full.csv\", delimiter=\";\")"
   ]
  },
  {
   "cell_type": "code",
   "execution_count": null,
   "id": "087b016c-4a35-4eae-b9b5-b9b0cc3fb143",
   "metadata": {},
   "outputs": [],
   "source": [
    "from sklearn.model_selection import train_test_split\n",
    "train_df, test_df = train_test_split(df_bank, test_size=0.25, random_state=123)"
   ]
  },
  {
   "cell_type": "code",
   "execution_count": null,
   "id": "ab0c4057-77cd-4980-ab8a-44661213a47b",
   "metadata": {},
   "outputs": [],
   "source": [
    "train_df.head()"
   ]
  },
  {
   "cell_type": "code",
   "execution_count": null,
   "id": "4b57a2c7-f142-4ecd-a5dc-4618c0f45cc0",
   "metadata": {},
   "outputs": [],
   "source": [
    "train_df.info()"
   ]
  },
  {
   "cell_type": "code",
   "execution_count": null,
   "id": "8e310703-fc87-450f-a728-0597084147ea",
   "metadata": {},
   "outputs": [],
   "source": [
    "# Distribution of the target"
   ]
  },
  {
   "cell_type": "code",
   "execution_count": null,
   "id": "29405d93-4274-4173-84cb-c7cf47d8478d",
   "metadata": {},
   "outputs": [],
   "source": [
    "train_df[\"y\"].value_counts(normalize=True)"
   ]
  },
  {
   "cell_type": "code",
   "execution_count": null,
   "id": "d652ecdc-0613-4c64-9e9d-ecb60e76a394",
   "metadata": {},
   "outputs": [],
   "source": [
    "# Distributions of categorical and numeric features"
   ]
  },
  {
   "cell_type": "code",
   "execution_count": null,
   "id": "ada49f7c-58dd-456a-b86a-bdd25c6c08e6",
   "metadata": {},
   "outputs": [],
   "source": [
    "categorical_cols = list(train_df.drop(columns=[\"y\"]).select_dtypes(include=[\"object\"]).columns)\n",
    "numerical_cols = list(train_df.select_dtypes(include=[\"int64\"]).columns)"
   ]
  },
  {
   "cell_type": "code",
   "execution_count": null,
   "id": "d0421d0a-db05-4ab9-b24f-05cff7d333ae",
   "metadata": {},
   "outputs": [],
   "source": [
    "import altair as alt\n",
    "alt.data_transformers.enable(\"vegafusion\")\n",
    "\n",
    "alt.Chart(train_df).mark_bar().encode(\n",
    "    x=\"count()\",\n",
    "    y=alt.Y(alt.repeat()).type(\"nominal\")\n",
    ").repeat(\n",
    "    categorical_cols, columns=3\n",
    ")"
   ]
  },
  {
   "cell_type": "code",
   "execution_count": null,
   "id": "96ae9e24-387a-445f-aa43-475fa1c485af",
   "metadata": {},
   "outputs": [],
   "source": [
    "alt.Chart(train_df).mark_bar().encode(\n",
    "    x=alt.X(alt.repeat()).type(\"quantitative\").bin(maxbins=40),\n",
    "    y=\"count()\"\n",
    ").repeat(\n",
    "    numerical_cols, columns=3\n",
    ")"
   ]
  },
  {
   "cell_type": "code",
   "execution_count": null,
   "id": "edca1d09-71fb-47d8-8876-c1c21bfa2510",
   "metadata": {},
   "outputs": [],
   "source": [
    "# Correlations between numeric features"
   ]
  },
  {
   "cell_type": "code",
   "execution_count": null,
   "id": "336175e8-115e-4a20-90cf-f63d71d4084e",
   "metadata": {},
   "outputs": [],
   "source": [
    "# measure linear relationship\n",
    "person_corr_df = train_df[numerical_cols].corr(\"pearson\").unstack().reset_index()\n",
    "person_corr_df.columns = [\"num_variable_0\", \"num_variable_1\", \"correlation\"]\n",
    "\n",
    "corr_heatmap = alt.Chart(person_corr_df).mark_rect().encode(\n",
    "    x=alt.X(\"num_variable_0\").title(\"Numerical Variable\"),\n",
    "    y=alt.Y(\"num_variable_1\").title(\"Numerical Variable\"),\n",
    "    color=\"correlation:Q\"\n",
    ").properties(\n",
    "    width=250,\n",
    "    height=250\n",
    ")\n",
    "\n",
    "text = alt.Chart(person_corr_df, title=\"Pearson Correlation\").mark_text().encode(\n",
    "    x=alt.X(\"num_variable_0\").title(\"Numerical Variable\"),\n",
    "    y=alt.Y(\"num_variable_1\").title(\"Numerical Variable\"),\n",
    "    text=alt.Text(\"correlation:Q\", format=\".2f\")\n",
    ")\n",
    "\n",
    "corr_heatmap + text"
   ]
  },
  {
   "cell_type": "code",
   "execution_count": null,
   "id": "d47b952e-e67f-4481-9234-82f2b9cd0b7d",
   "metadata": {},
   "outputs": [],
   "source": [
    "# measure monotonic (incl. non-linear) relationship\n",
    "# FIXME: does it matter? If we apply linear models, we're more afraid of collinearity, i.e. linear relationship\n",
    "spearman_corr_df = train_df[numerical_cols].corr(\"spearman\").unstack().reset_index()\n",
    "spearman_corr_df.columns = [\"num_variable_0\", \"num_variable_1\", \"correlation\"]\n",
    "\n",
    "corr_heatmap = alt.Chart(spearman_corr_df, title=\"Spearman Correlation\").mark_rect().encode(\n",
    "    x=alt.X(\"num_variable_0\").title(\"Numerical Variable\"),\n",
    "    y=alt.Y(\"num_variable_1\").title(\"Numerical Variable\"),\n",
    "    color=\"correlation:Q\"\n",
    ").properties(\n",
    "    width=250,\n",
    "    height=250\n",
    ")\n",
    "\n",
    "text = alt.Chart(spearman_corr_df).mark_text().encode(\n",
    "    x=alt.X(\"num_variable_0\").title(\"Numerical Variable\"),\n",
    "    y=alt.Y(\"num_variable_1\").title(\"Numerical Variable\"),\n",
    "    text=alt.Text(\"correlation:Q\", format=\".2f\")\n",
    ")\n",
    "\n",
    "corr_heatmap + text"
   ]
  },
  {
   "cell_type": "code",
   "execution_count": null,
   "id": "e078ec77-0a66-47cd-9bfd-5c514ee74d10",
   "metadata": {},
   "outputs": [],
   "source": [
    "# checking for correlation between pdays and previous\n",
    "# FIXME: there is no linear relationship here\n",
    "pdays_prev = alt.Chart(train_df, title=\"pdays vs previous\").mark_point().encode(\n",
    "    x=\"pdays\",\n",
    "    y=\"previous\"\n",
    ")\n",
    "\n",
    "pdays_prev_clamped = alt.Chart(train_df, title=\"pdays vs previous (previous <= 50)\").mark_point().encode(\n",
    "    x=\"pdays\",\n",
    "    y=alt.Y(\"previous\").scale(domain=(0, 50), clamp=True)\n",
    ")\n",
    "\n",
    "pdays_prev | pdays_prev_clamped"
   ]
  },
  {
   "cell_type": "markdown",
   "id": "4f8e0439-b7ac-438d-b922-9af48386a661",
   "metadata": {},
   "source": [
    "### Summary and Recommendations from EDA\n",
    "- Generally, bar charts were created for categorical variables, and histograms for numerical variables to show illustration. Correlation heatmaps based on two different metrics were generated to investigate the relationships between numerical variables. A scatter plot specifically for `pdays` vs `previous` was created.\n",
    "- Judging from the proportion of each class in the target, the dataset is unbalanced\n",
    "- `job`, `education`, `contact` and `poutcome` contain unknown values. We do not have enough information on the dataset to impute these values properly. Note that these values are not null values, but strings called \"unknown\". **# FIXME: it seems only `contact` and `poutcome` have \"unknown\"**\n",
    "- Out of the columns mentioned that contain unknown values, `contact` and `poutcome` need to be dropped since they contain too many unknown examples. We cannot just drop the unknowns from these columns since we would be dropping too many examples, especially considering the size of the data. **# FIXME: `poutcome` is the outcome of the previous marketing campaign. Most of the \"unknown\" is because `previous = 0`. If the person has never been contacted for marketing before, it makes sense to say \"unknown\" for this field as \"previous marketing\" doesn't exist. But for those who have been reached out before, this `poutcome` might be informative! On the other hand, I think `contact` could be kept, because not that many \"unknown\" in it actually. Also, our task is to find out the importance of features. There should be no farm to keep it, but I would expect the result to tell me that this `contact` is not important.**\n",
    "- `job` and `education` can be kept. We can just drop the unknowns from these features. **# FIXME: they might contain information too?**\n",
    "- The distributions of `pdays` and `previous` are heavily skewed. These variables are also correlated with 0.99 Spearman correlation score and 0.44 Pearson correlation score.\n",
    "- However, upon visual inspection with a scatter plot, `pdays` and `previous` do not seem to be too correlated to be an issue. We can keep them both as features.\n",
    "- Overall recommendations:\n",
    "   - Drop `contact` and `poutcome`\n",
    "   - Drop unknown values from `job` and `education`\n",
    "   - Ordinal encode `education`\n",
    "   - One-hot encode other categorical variables\n",
    "   - Standardize numerical columns"
   ]
  },
  {
   "cell_type": "code",
   "execution_count": null,
   "id": "862830a9-7577-4f1c-b572-e0b27609a9a9",
   "metadata": {},
   "outputs": [],
   "source": [
    "# train_df = train_df.loc[(train_df[\"job\"] != \"unknown\") & (train_df[\"education\"] != \"unknown\")]\n",
    "# test_df = test_df.loc[(test_df[\"job\"] != \"unknown\") & (test_df[\"education\"] != \"unknown\")]\n",
    "\n",
    "# X_train = train_df.drop(columns=[\"y\"])\n",
    "# y_train = train_df[\"y\"]\n",
    "# X_test = test_df.drop(columns=[\"y\"])\n",
    "# y_test = test_df[\"y\"]"
   ]
  },
  {
   "cell_type": "code",
   "execution_count": null,
   "id": "891d8961-a406-43f7-a1b4-84300f9cb0ea",
   "metadata": {},
   "outputs": [],
   "source": [
    "# from sklearn.compose import make_column_transformer\n",
    "# from sklearn.preprocessing import OneHotEncoder, OrdinalEncoder, StandardScaler\n",
    "\n",
    "# # recommended transformations\n",
    "# categorical_feats = [\"job\", \"marital\", \"default\", \"housing\", \"loan\", \"month\"]\n",
    "# ordinal_feats = [\"education\"]\n",
    "# drop_feats = [\"contact\", \"poutcome\"]\n",
    "# numerical_feats = numerical_cols\n",
    "\n",
    "# education_levels = [\"primary\", \"secondary\", \"tertiary\"]\n",
    "\n",
    "# col_transformer = make_column_transformer((OneHotEncoder(sparse_output=False, drop=\"if_binary\"), categorical_feats),\n",
    "#                                           (OrdinalEncoder(categories=[education_levels], dtype=int), ordinal_feats),\n",
    "#                                           (\"drop\", drop_feats),\n",
    "#                                           (StandardScaler(), numerical_feats))"
   ]
  },
  {
   "cell_type": "code",
   "execution_count": null,
   "id": "d61cb62e-9de9-4fe8-8cd0-e7298eaf6dec",
   "metadata": {},
   "outputs": [],
   "source": [
    "X_train, y_train = train_df.drop(columns=[\"y\"]), train_df[\"y\"]\n",
    "X_test, y_test = test_df.drop(columns=[\"y\"]), test_df[\"y\"]"
   ]
  },
  {
   "cell_type": "code",
   "execution_count": null,
   "id": "9fc14744-068a-4981-acbc-2ba823d9be7d",
   "metadata": {},
   "outputs": [],
   "source": [
    "from sklearn.compose import make_column_transformer\n",
    "from sklearn.preprocessing import OneHotEncoder, OrdinalEncoder, StandardScaler\n",
    "\n",
    "categorical_feats = [\"job\", \"marital\", \"default\", \"housing\", \"loan\", \"contact\", \"day\", \"month\", \"poutcome\"]\n",
    "ordinal_feats = [\"education\"]\n",
    "numeric_feats = [\"age\", \"balance\", \"duration\", \"campaign\", \"previous\", \"pdays\"]\n",
    "\n",
    "education_levels = [\"unknown\", \"primary\", \"secondary\", \"tertiary\"]\n",
    "\n",
    "preprocessor = make_column_transformer(\n",
    "    (OneHotEncoder(sparse_output=False, drop=\"if_binary\"), categorical_feats),\n",
    "    (OrdinalEncoder(categories=[education_levels], dtype=int), ordinal_feats),\n",
    "    (StandardScaler(), numeric_feats)\n",
    ")"
   ]
  },
  {
   "cell_type": "markdown",
   "id": "f777ecc3-1015-44ca-8352-72ef5455abd3",
   "metadata": {},
   "source": [
    "# logistic regression"
   ]
  },
  {
   "cell_type": "code",
   "execution_count": null,
   "id": "00bc2209-15bb-4c0b-8c0b-24f8a5e9b5ad",
   "metadata": {},
   "outputs": [],
   "source": [
    "from sklearn.pipeline import make_pipeline\n",
    "from sklearn.linear_model import LogisticRegression\n",
    "\n",
    "lr_pipe = make_pipeline(\n",
    "    preprocessor,\n",
    "    LogisticRegression(random_state=123, max_iter=2000)\n",
    ")\n",
    "\n",
    "lr_pipe.fit(X_train, y_train)"
   ]
  },
  {
   "cell_type": "code",
   "execution_count": null,
   "id": "eb4013b8-3bda-4eff-a64b-8f004a67f96d",
   "metadata": {},
   "outputs": [],
   "source": [
    "from sklearn.metrics import confusion_matrix, ConfusionMatrixDisplay, classification_report\n",
    "\n",
    "ConfusionMatrixDisplay.from_estimator(lr_pipe, X_train, y_train)"
   ]
  },
  {
   "cell_type": "code",
   "execution_count": null,
   "id": "a42415fb-3d1b-45ab-81a8-c295618b91ea",
   "metadata": {},
   "outputs": [],
   "source": [
    "y_pred = lr_pipe.predict(X_train)\n",
    "print(classification_report(y_train, y_pred))"
   ]
  },
  {
   "cell_type": "code",
   "execution_count": null,
   "id": "84a3805b-bf38-44fb-9441-cc72c6d78dfa",
   "metadata": {},
   "outputs": [],
   "source": [
    "from sklearn.metrics import PrecisionRecallDisplay, average_precision_score, recall_score, precision_score\n",
    "import matplotlib.pyplot as plt\n",
    "PrecisionRecallDisplay.from_estimator(lr_pipe, X_train, y_train)\n",
    "\n",
    "# plot point\n",
    "plt.plot(recall_score(y_train, y_pred, pos_label=\"yes\"), precision_score(y_train, y_pred, pos_label=\"yes\"), \"ro\", markersize=5) # red circle\n"
   ]
  },
  {
   "cell_type": "code",
   "execution_count": null,
   "id": "bd6eda24-a776-495e-9c9d-eefbdb5430ad",
   "metadata": {},
   "outputs": [],
   "source": [
    "lr_pipe.named_steps['logisticregression'].coef_"
   ]
  },
  {
   "cell_type": "code",
   "execution_count": null,
   "id": "515fc6de-1048-4915-9c3d-1505f1e25b72",
   "metadata": {},
   "outputs": [],
   "source": [
    "lr_pipe.named_steps['columntransformer'].named_transformers_"
   ]
  },
  {
   "cell_type": "code",
   "execution_count": null,
   "id": "a1a84234-273a-46c5-b2d1-429c50128015",
   "metadata": {},
   "outputs": [],
   "source": [
    "categorical_cols = lr_pipe.named_steps['columntransformer'].named_transformers_['onehotencoder'].get_feature_names_out().tolist()\n",
    "ordinal_cols = lr_pipe.named_steps['columntransformer'].named_transformers_['ordinalencoder'].get_feature_names_out().tolist()\n",
    "numeric_cols = lr_pipe.named_steps['columntransformer'].named_transformers_['standardscaler'].get_feature_names_out().tolist()\n",
    "\n",
    "feature_importance = pd.DataFrame({\n",
    "    'feature': categorical_cols + ordinal_cols + numeric_cols, \n",
    "    'coef': lr_pipe.named_steps['logisticregression'].coef_[0].tolist()\n",
    "})\n",
    "feature_importance"
   ]
  },
  {
   "cell_type": "code",
   "execution_count": null,
   "id": "0d573d49-1760-4370-9aae-07e0ea135513",
   "metadata": {
    "scrolled": true
   },
   "outputs": [],
   "source": [
    "pd.set_option('display.max_rows', 100)\n",
    "feature_importance.sort_values('coef', ascending=False)"
   ]
  },
  {
   "cell_type": "code",
   "execution_count": null,
   "id": "28a7db3d-3eec-48fe-9b13-3de4f36ad584",
   "metadata": {},
   "outputs": [],
   "source": [
    "feature_importance.sort_values('importance', ascending=False)"
   ]
  },
  {
   "cell_type": "markdown",
   "id": "e75bba2d-d491-416f-ab89-1448b97806f4",
   "metadata": {},
   "source": [
    "# decision tree"
   ]
  },
  {
   "cell_type": "code",
   "execution_count": null,
   "id": "88882b3e-54d9-4532-897c-e2e82dc8778b",
   "metadata": {},
   "outputs": [],
   "source": [
    "from sklearn.tree import DecisionTreeClassifier\n",
    "\n",
    "dt_pipe = make_pipeline(\n",
    "    preprocessor,\n",
    "    DecisionTreeClassifier(random_state=123, max_depth=5)\n",
    ")\n",
    "dt_pipe.fit(X_train, y_train)"
   ]
  },
  {
   "cell_type": "code",
   "execution_count": null,
   "id": "82ae899a-26a0-492e-8609-12f83cd0ee52",
   "metadata": {
    "scrolled": true
   },
   "outputs": [],
   "source": [
    "# from sklearn.tree import plot_tree\n",
    "# plt.figure(figsize=(12,12))\n",
    "# plot_tree(dt_pipe.named_steps['decisiontreeclassifier'], feature_names=categorical_cols + ordinal_cols + numeric_cols, fontsize=10)\n",
    "# plt.show()"
   ]
  },
  {
   "cell_type": "code",
   "execution_count": null,
   "id": "a34b2751-e4b8-4e41-9326-2ffe4f5844c2",
   "metadata": {},
   "outputs": [],
   "source": [
    "ConfusionMatrixDisplay.from_estimator(dt_pipe, X_train, y_train)"
   ]
  },
  {
   "cell_type": "code",
   "execution_count": null,
   "id": "100c30ea-e6e1-4f7f-89e3-5ef2827eab3d",
   "metadata": {},
   "outputs": [],
   "source": [
    "print(classification_report(y_train, dt_pipe.predict(X_train)))"
   ]
  },
  {
   "cell_type": "code",
   "execution_count": null,
   "id": "da644981-7e94-4722-a499-4167ebb0cb14",
   "metadata": {},
   "outputs": [],
   "source": [
    "_, ax = plt.subplots()\n",
    "\n",
    "PrecisionRecallDisplay.from_estimator(dt_pipe, X_train, y_train, ax=ax)\n",
    "\n",
    "# plot point\n",
    "plt.plot(\n",
    "    recall_score(y_train, dt_pipe.predict(X_train), pos_label=\"yes\"), \n",
    "    precision_score(y_train, dt_pipe.predict(X_train), pos_label=\"yes\"), \n",
    "    \"ro\", markersize=5) # red circle\n",
    "\n",
    "PrecisionRecallDisplay.from_estimator(lr_pipe, X_train, y_train, ax=ax)\n",
    "\n",
    "# plot point\n",
    "plt.plot(recall_score(y_train, y_pred, pos_label=\"yes\"), precision_score(y_train, y_pred, pos_label=\"yes\"), \"ro\", markersize=5) # red circle"
   ]
  },
  {
   "cell_type": "code",
   "execution_count": null,
   "id": "2cf9f3fb-56d4-4068-b7c9-f15a1ab89a0b",
   "metadata": {
    "scrolled": true
   },
   "outputs": [],
   "source": [
    "feature_importance = pd.DataFrame({\n",
    "    'feature': categorical_cols + ordinal_cols + numeric_cols, \n",
    "    'importance': dt_pipe.named_steps['decisiontreeclassifier'].feature_importances_.tolist()\n",
    "})\n",
    "feature_importance.sort_values('importance', ascending=False)"
   ]
  },
  {
   "cell_type": "markdown",
   "id": "d80fa78f-6713-454a-a6b1-8a19da04fb59",
   "metadata": {},
   "source": [
    "# cross-validation on precision"
   ]
  },
  {
   "cell_type": "code",
   "execution_count": null,
   "id": "fa5e1e43-be75-4f10-a648-f496fcb50d6a",
   "metadata": {
    "scrolled": true
   },
   "outputs": [],
   "source": [
    "?cross_validate"
   ]
  },
  {
   "cell_type": "code",
   "execution_count": null,
   "id": "3033bf56-e1d9-424c-8c21-df7bda2b369c",
   "metadata": {},
   "outputs": [],
   "source": [
    "import numpy as np\n",
    "#(lambda y: pd.Series(np.where(y, \"yes\", \"no\"), name=\"y\"))\n",
    "((lambda y: y == \"yes\")(y_train))"
   ]
  },
  {
   "cell_type": "code",
   "execution_count": null,
   "id": "b4629e06-ece6-46f7-b263-3fdafe683425",
   "metadata": {},
   "outputs": [],
   "source": [
    "y_train"
   ]
  },
  {
   "cell_type": "code",
   "execution_count": null,
   "id": "b15494c3-7f90-437f-a597-7c75788ada47",
   "metadata": {},
   "outputs": [],
   "source": [
    "y_train==\"yes\""
   ]
  },
  {
   "cell_type": "code",
   "execution_count": null,
   "id": "b403c45a-2828-4096-ad17-6066f5ca49e9",
   "metadata": {},
   "outputs": [],
   "source": [
    "from sklearn.model_selection import cross_validate\n",
    "\n",
    "lr_pipe = make_pipeline(preprocessor, LogisticRegression(random_state=123, max_iter=2000))\n",
    "\n",
    "pd.DataFrame(\n",
    "    cross_validate(lr_pipe, X_train, y_train==\"yes\", cv=10, return_train_score=True, scoring=[\"accuracy\", \"precision\", \"recall\"])\n",
    ").agg(['mean']).round(3).T"
   ]
  },
  {
   "cell_type": "code",
   "execution_count": null,
   "id": "d94dd741-03e0-4f2e-87e2-6bb23bf61786",
   "metadata": {},
   "outputs": [],
   "source": [
    "pd.DataFrame(\n",
    "    cross_validate(dt_pipe, X_train, y_train==\"yes\", cv=10, return_train_score=True, scoring=[\"accuracy\", \"precision\", \"recall\"])\n",
    ").agg(['mean']).round(3).T"
   ]
  },
  {
   "cell_type": "code",
   "execution_count": null,
   "id": "3c163fa1-2e2a-4287-9839-fb859ea376d2",
   "metadata": {},
   "outputs": [],
   "source": []
  }
 ],
 "metadata": {
  "kernelspec": {
   "display_name": "Python [conda env:522]",
   "language": "python",
   "name": "conda-env-522-py"
  },
  "language_info": {
   "codemirror_mode": {
    "name": "ipython",
    "version": 3
   },
   "file_extension": ".py",
   "mimetype": "text/x-python",
   "name": "python",
   "nbconvert_exporter": "python",
   "pygments_lexer": "ipython3",
   "version": "3.12.0"
  }
 },
 "nbformat": 4,
 "nbformat_minor": 5
}
